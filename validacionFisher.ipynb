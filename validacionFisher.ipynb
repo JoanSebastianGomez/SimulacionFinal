{
  "nbformat": 4,
  "nbformat_minor": 0,
  "metadata": {
    "colab": {
      "name": "validacionFisher.ipynb",
      "provenance": []
    },
    "kernelspec": {
      "name": "python3",
      "display_name": "Python 3"
    },
    "language_info": {
      "name": "python"
    }
  },
  "cells": [
    {
      "cell_type": "code",
      "metadata": {
        "id": "OCjgVSijQODy",
        "colab": {
          "base_uri": "https://localhost:8080/"
        },
        "outputId": "89851be4-b0c5-431e-e91b-2a05826d6d5a"
      },
      "source": [
        "!pip install qgrid\n",
        "import pandas as pd\n",
        "import numpy as np\n",
        "import qgrid\n",
        "import matplotlib.pyplot as plt\n",
        "\n",
        "import warnings\n",
        "warnings.filterwarnings('ignore') "
      ],
      "execution_count": null,
      "outputs": [
        {
          "output_type": "stream",
          "name": "stdout",
          "text": [
            "Collecting qgrid\n",
            "  Downloading qgrid-1.3.1.tar.gz (889 kB)\n",
            "\u001b[?25l\r\u001b[K     |▍                               | 10 kB 25.4 MB/s eta 0:00:01\r\u001b[K     |▊                               | 20 kB 29.3 MB/s eta 0:00:01\r\u001b[K     |█                               | 30 kB 32.0 MB/s eta 0:00:01\r\u001b[K     |█▌                              | 40 kB 34.1 MB/s eta 0:00:01\r\u001b[K     |█▉                              | 51 kB 34.4 MB/s eta 0:00:01\r\u001b[K     |██▏                             | 61 kB 35.5 MB/s eta 0:00:01\r\u001b[K     |██▋                             | 71 kB 30.2 MB/s eta 0:00:01\r\u001b[K     |███                             | 81 kB 30.5 MB/s eta 0:00:01\r\u001b[K     |███▎                            | 92 kB 29.8 MB/s eta 0:00:01\r\u001b[K     |███▊                            | 102 kB 31.5 MB/s eta 0:00:01\r\u001b[K     |████                            | 112 kB 31.5 MB/s eta 0:00:01\r\u001b[K     |████▍                           | 122 kB 31.5 MB/s eta 0:00:01\r\u001b[K     |████▉                           | 133 kB 31.5 MB/s eta 0:00:01\r\u001b[K     |█████▏                          | 143 kB 31.5 MB/s eta 0:00:01\r\u001b[K     |█████▌                          | 153 kB 31.5 MB/s eta 0:00:01\r\u001b[K     |██████                          | 163 kB 31.5 MB/s eta 0:00:01\r\u001b[K     |██████▎                         | 174 kB 31.5 MB/s eta 0:00:01\r\u001b[K     |██████▋                         | 184 kB 31.5 MB/s eta 0:00:01\r\u001b[K     |███████                         | 194 kB 31.5 MB/s eta 0:00:01\r\u001b[K     |███████▍                        | 204 kB 31.5 MB/s eta 0:00:01\r\u001b[K     |███████▊                        | 215 kB 31.5 MB/s eta 0:00:01\r\u001b[K     |████████                        | 225 kB 31.5 MB/s eta 0:00:01\r\u001b[K     |████████▌                       | 235 kB 31.5 MB/s eta 0:00:01\r\u001b[K     |████████▉                       | 245 kB 31.5 MB/s eta 0:00:01\r\u001b[K     |█████████▏                      | 256 kB 31.5 MB/s eta 0:00:01\r\u001b[K     |█████████▋                      | 266 kB 31.5 MB/s eta 0:00:01\r\u001b[K     |██████████                      | 276 kB 31.5 MB/s eta 0:00:01\r\u001b[K     |██████████▎                     | 286 kB 31.5 MB/s eta 0:00:01\r\u001b[K     |██████████▊                     | 296 kB 31.5 MB/s eta 0:00:01\r\u001b[K     |███████████                     | 307 kB 31.5 MB/s eta 0:00:01\r\u001b[K     |███████████▍                    | 317 kB 31.5 MB/s eta 0:00:01\r\u001b[K     |███████████▉                    | 327 kB 31.5 MB/s eta 0:00:01\r\u001b[K     |████████████▏                   | 337 kB 31.5 MB/s eta 0:00:01\r\u001b[K     |████████████▌                   | 348 kB 31.5 MB/s eta 0:00:01\r\u001b[K     |█████████████                   | 358 kB 31.5 MB/s eta 0:00:01\r\u001b[K     |█████████████▎                  | 368 kB 31.5 MB/s eta 0:00:01\r\u001b[K     |█████████████▋                  | 378 kB 31.5 MB/s eta 0:00:01\r\u001b[K     |██████████████                  | 389 kB 31.5 MB/s eta 0:00:01\r\u001b[K     |██████████████▍                 | 399 kB 31.5 MB/s eta 0:00:01\r\u001b[K     |██████████████▊                 | 409 kB 31.5 MB/s eta 0:00:01\r\u001b[K     |███████████████                 | 419 kB 31.5 MB/s eta 0:00:01\r\u001b[K     |███████████████▌                | 430 kB 31.5 MB/s eta 0:00:01\r\u001b[K     |███████████████▉                | 440 kB 31.5 MB/s eta 0:00:01\r\u001b[K     |████████████████▏               | 450 kB 31.5 MB/s eta 0:00:01\r\u001b[K     |████████████████▋               | 460 kB 31.5 MB/s eta 0:00:01\r\u001b[K     |█████████████████               | 471 kB 31.5 MB/s eta 0:00:01\r\u001b[K     |█████████████████▎              | 481 kB 31.5 MB/s eta 0:00:01\r\u001b[K     |█████████████████▊              | 491 kB 31.5 MB/s eta 0:00:01\r\u001b[K     |██████████████████              | 501 kB 31.5 MB/s eta 0:00:01\r\u001b[K     |██████████████████▍             | 512 kB 31.5 MB/s eta 0:00:01\r\u001b[K     |██████████████████▉             | 522 kB 31.5 MB/s eta 0:00:01\r\u001b[K     |███████████████████▏            | 532 kB 31.5 MB/s eta 0:00:01\r\u001b[K     |███████████████████▌            | 542 kB 31.5 MB/s eta 0:00:01\r\u001b[K     |████████████████████            | 552 kB 31.5 MB/s eta 0:00:01\r\u001b[K     |████████████████████▎           | 563 kB 31.5 MB/s eta 0:00:01\r\u001b[K     |████████████████████▋           | 573 kB 31.5 MB/s eta 0:00:01\r\u001b[K     |█████████████████████           | 583 kB 31.5 MB/s eta 0:00:01\r\u001b[K     |█████████████████████▍          | 593 kB 31.5 MB/s eta 0:00:01\r\u001b[K     |█████████████████████▊          | 604 kB 31.5 MB/s eta 0:00:01\r\u001b[K     |██████████████████████▏         | 614 kB 31.5 MB/s eta 0:00:01\r\u001b[K     |██████████████████████▌         | 624 kB 31.5 MB/s eta 0:00:01\r\u001b[K     |██████████████████████▉         | 634 kB 31.5 MB/s eta 0:00:01\r\u001b[K     |███████████████████████▏        | 645 kB 31.5 MB/s eta 0:00:01\r\u001b[K     |███████████████████████▋        | 655 kB 31.5 MB/s eta 0:00:01\r\u001b[K     |████████████████████████        | 665 kB 31.5 MB/s eta 0:00:01\r\u001b[K     |████████████████████████▎       | 675 kB 31.5 MB/s eta 0:00:01\r\u001b[K     |████████████████████████▊       | 686 kB 31.5 MB/s eta 0:00:01\r\u001b[K     |█████████████████████████       | 696 kB 31.5 MB/s eta 0:00:01\r\u001b[K     |█████████████████████████▍      | 706 kB 31.5 MB/s eta 0:00:01\r\u001b[K     |█████████████████████████▉      | 716 kB 31.5 MB/s eta 0:00:01\r\u001b[K     |██████████████████████████▏     | 727 kB 31.5 MB/s eta 0:00:01\r\u001b[K     |██████████████████████████▌     | 737 kB 31.5 MB/s eta 0:00:01\r\u001b[K     |███████████████████████████     | 747 kB 31.5 MB/s eta 0:00:01\r\u001b[K     |███████████████████████████▎    | 757 kB 31.5 MB/s eta 0:00:01\r\u001b[K     |███████████████████████████▋    | 768 kB 31.5 MB/s eta 0:00:01\r\u001b[K     |████████████████████████████    | 778 kB 31.5 MB/s eta 0:00:01\r\u001b[K     |████████████████████████████▍   | 788 kB 31.5 MB/s eta 0:00:01\r\u001b[K     |████████████████████████████▊   | 798 kB 31.5 MB/s eta 0:00:01\r\u001b[K     |█████████████████████████████▏  | 808 kB 31.5 MB/s eta 0:00:01\r\u001b[K     |█████████████████████████████▌  | 819 kB 31.5 MB/s eta 0:00:01\r\u001b[K     |█████████████████████████████▉  | 829 kB 31.5 MB/s eta 0:00:01\r\u001b[K     |██████████████████████████████▏ | 839 kB 31.5 MB/s eta 0:00:01\r\u001b[K     |██████████████████████████████▋ | 849 kB 31.5 MB/s eta 0:00:01\r\u001b[K     |███████████████████████████████ | 860 kB 31.5 MB/s eta 0:00:01\r\u001b[K     |███████████████████████████████▎| 870 kB 31.5 MB/s eta 0:00:01\r\u001b[K     |███████████████████████████████▊| 880 kB 31.5 MB/s eta 0:00:01\r\u001b[K     |████████████████████████████████| 889 kB 31.5 MB/s \n",
            "\u001b[?25hRequirement already satisfied: notebook>=4.0.0 in /usr/local/lib/python3.7/dist-packages (from qgrid) (5.3.1)\n",
            "Requirement already satisfied: pandas>=0.18.0 in /usr/local/lib/python3.7/dist-packages (from qgrid) (1.1.5)\n",
            "Requirement already satisfied: ipywidgets>=7.0.0 in /usr/local/lib/python3.7/dist-packages (from qgrid) (7.6.5)\n",
            "Requirement already satisfied: ipython>=4.0.0 in /usr/local/lib/python3.7/dist-packages (from ipywidgets>=7.0.0->qgrid) (5.5.0)\n",
            "Requirement already satisfied: traitlets>=4.3.1 in /usr/local/lib/python3.7/dist-packages (from ipywidgets>=7.0.0->qgrid) (5.1.0)\n",
            "Requirement already satisfied: widgetsnbextension~=3.5.0 in /usr/local/lib/python3.7/dist-packages (from ipywidgets>=7.0.0->qgrid) (3.5.1)\n",
            "Requirement already satisfied: jupyterlab-widgets>=1.0.0 in /usr/local/lib/python3.7/dist-packages (from ipywidgets>=7.0.0->qgrid) (1.0.2)\n",
            "Requirement already satisfied: ipython-genutils~=0.2.0 in /usr/local/lib/python3.7/dist-packages (from ipywidgets>=7.0.0->qgrid) (0.2.0)\n",
            "Requirement already satisfied: nbformat>=4.2.0 in /usr/local/lib/python3.7/dist-packages (from ipywidgets>=7.0.0->qgrid) (5.1.3)\n",
            "Requirement already satisfied: ipykernel>=4.5.1 in /usr/local/lib/python3.7/dist-packages (from ipywidgets>=7.0.0->qgrid) (4.10.1)\n",
            "Requirement already satisfied: tornado>=4.0 in /usr/local/lib/python3.7/dist-packages (from ipykernel>=4.5.1->ipywidgets>=7.0.0->qgrid) (5.1.1)\n",
            "Requirement already satisfied: jupyter-client in /usr/local/lib/python3.7/dist-packages (from ipykernel>=4.5.1->ipywidgets>=7.0.0->qgrid) (5.3.5)\n",
            "Requirement already satisfied: pickleshare in /usr/local/lib/python3.7/dist-packages (from ipython>=4.0.0->ipywidgets>=7.0.0->qgrid) (0.7.5)\n",
            "Requirement already satisfied: prompt-toolkit<2.0.0,>=1.0.4 in /usr/local/lib/python3.7/dist-packages (from ipython>=4.0.0->ipywidgets>=7.0.0->qgrid) (1.0.18)\n",
            "Requirement already satisfied: pexpect in /usr/local/lib/python3.7/dist-packages (from ipython>=4.0.0->ipywidgets>=7.0.0->qgrid) (4.8.0)\n",
            "Requirement already satisfied: decorator in /usr/local/lib/python3.7/dist-packages (from ipython>=4.0.0->ipywidgets>=7.0.0->qgrid) (4.4.2)\n",
            "Requirement already satisfied: pygments in /usr/local/lib/python3.7/dist-packages (from ipython>=4.0.0->ipywidgets>=7.0.0->qgrid) (2.6.1)\n",
            "Requirement already satisfied: simplegeneric>0.8 in /usr/local/lib/python3.7/dist-packages (from ipython>=4.0.0->ipywidgets>=7.0.0->qgrid) (0.8.1)\n",
            "Requirement already satisfied: setuptools>=18.5 in /usr/local/lib/python3.7/dist-packages (from ipython>=4.0.0->ipywidgets>=7.0.0->qgrid) (57.4.0)\n",
            "Requirement already satisfied: jsonschema!=2.5.0,>=2.4 in /usr/local/lib/python3.7/dist-packages (from nbformat>=4.2.0->ipywidgets>=7.0.0->qgrid) (2.6.0)\n",
            "Requirement already satisfied: jupyter-core in /usr/local/lib/python3.7/dist-packages (from nbformat>=4.2.0->ipywidgets>=7.0.0->qgrid) (4.8.1)\n",
            "Requirement already satisfied: jinja2 in /usr/local/lib/python3.7/dist-packages (from notebook>=4.0.0->qgrid) (2.11.3)\n",
            "Requirement already satisfied: terminado>=0.8.1 in /usr/local/lib/python3.7/dist-packages (from notebook>=4.0.0->qgrid) (0.12.1)\n",
            "Requirement already satisfied: nbconvert in /usr/local/lib/python3.7/dist-packages (from notebook>=4.0.0->qgrid) (5.6.1)\n",
            "Requirement already satisfied: Send2Trash in /usr/local/lib/python3.7/dist-packages (from notebook>=4.0.0->qgrid) (1.8.0)\n",
            "Requirement already satisfied: pyzmq>=13 in /usr/local/lib/python3.7/dist-packages (from jupyter-client->ipykernel>=4.5.1->ipywidgets>=7.0.0->qgrid) (22.3.0)\n",
            "Requirement already satisfied: python-dateutil>=2.1 in /usr/local/lib/python3.7/dist-packages (from jupyter-client->ipykernel>=4.5.1->ipywidgets>=7.0.0->qgrid) (2.8.2)\n",
            "Requirement already satisfied: numpy>=1.15.4 in /usr/local/lib/python3.7/dist-packages (from pandas>=0.18.0->qgrid) (1.19.5)\n",
            "Requirement already satisfied: pytz>=2017.2 in /usr/local/lib/python3.7/dist-packages (from pandas>=0.18.0->qgrid) (2018.9)\n",
            "Requirement already satisfied: wcwidth in /usr/local/lib/python3.7/dist-packages (from prompt-toolkit<2.0.0,>=1.0.4->ipython>=4.0.0->ipywidgets>=7.0.0->qgrid) (0.2.5)\n",
            "Requirement already satisfied: six>=1.9.0 in /usr/local/lib/python3.7/dist-packages (from prompt-toolkit<2.0.0,>=1.0.4->ipython>=4.0.0->ipywidgets>=7.0.0->qgrid) (1.15.0)\n",
            "Requirement already satisfied: ptyprocess in /usr/local/lib/python3.7/dist-packages (from terminado>=0.8.1->notebook>=4.0.0->qgrid) (0.7.0)\n",
            "Requirement already satisfied: MarkupSafe>=0.23 in /usr/local/lib/python3.7/dist-packages (from jinja2->notebook>=4.0.0->qgrid) (2.0.1)\n",
            "Requirement already satisfied: bleach in /usr/local/lib/python3.7/dist-packages (from nbconvert->notebook>=4.0.0->qgrid) (4.1.0)\n",
            "Requirement already satisfied: testpath in /usr/local/lib/python3.7/dist-packages (from nbconvert->notebook>=4.0.0->qgrid) (0.5.0)\n",
            "Requirement already satisfied: entrypoints>=0.2.2 in /usr/local/lib/python3.7/dist-packages (from nbconvert->notebook>=4.0.0->qgrid) (0.3)\n",
            "Requirement already satisfied: mistune<2,>=0.8.1 in /usr/local/lib/python3.7/dist-packages (from nbconvert->notebook>=4.0.0->qgrid) (0.8.4)\n",
            "Requirement already satisfied: pandocfilters>=1.4.1 in /usr/local/lib/python3.7/dist-packages (from nbconvert->notebook>=4.0.0->qgrid) (1.5.0)\n",
            "Requirement already satisfied: defusedxml in /usr/local/lib/python3.7/dist-packages (from nbconvert->notebook>=4.0.0->qgrid) (0.7.1)\n",
            "Requirement already satisfied: webencodings in /usr/local/lib/python3.7/dist-packages (from bleach->nbconvert->notebook>=4.0.0->qgrid) (0.5.1)\n",
            "Requirement already satisfied: packaging in /usr/local/lib/python3.7/dist-packages (from bleach->nbconvert->notebook>=4.0.0->qgrid) (21.0)\n",
            "Requirement already satisfied: pyparsing>=2.0.2 in /usr/local/lib/python3.7/dist-packages (from packaging->bleach->nbconvert->notebook>=4.0.0->qgrid) (2.4.7)\n",
            "Building wheels for collected packages: qgrid\n",
            "  Building wheel for qgrid (setup.py) ... \u001b[?25l\u001b[?25hdone\n",
            "  Created wheel for qgrid: filename=qgrid-1.3.1-py2.py3-none-any.whl size=1761271 sha256=1f11c0eb1bcf58a709db1a2551300e722252a639439d0522373fc05498eacbf5\n",
            "  Stored in directory: /root/.cache/pip/wheels/53/87/cb/c63a58774627471976061afb5b8657b76d2268c1e76e980586\n",
            "Successfully built qgrid\n",
            "Installing collected packages: qgrid\n",
            "Successfully installed qgrid-1.3.1\n"
          ]
        }
      ]
    },
    {
      "cell_type": "code",
      "metadata": {
        "colab": {
          "base_uri": "https://localhost:8080/"
        },
        "id": "h67nHGp8S7PZ",
        "outputId": "9cca60ad-c773-4ba9-da8c-982bad02bde5"
      },
      "source": [
        "DatosConNulls = pd.read_csv(\"water_potability.csv\", names = None, sep = \",\")\n",
        "df1=DatosConNulls[DatosConNulls['Potability']==1].copy()\n",
        "df2=DatosConNulls[DatosConNulls['Potability']==0].copy()\n",
        "df1['ph']=df1['ph'].replace(np.nan, df1['ph'].median())\n",
        "df2['ph']=df2['ph'].replace(np.nan, df2['ph'].median())\n",
        "df1['Sulfate']=df1['Sulfate'].replace(np.nan, df1['Sulfate'].median())\n",
        "df2['Sulfate']=df2['Sulfate'].replace(np.nan, df2['Sulfate'].median())\n",
        "df1['Trihalomethanes']=df1['Trihalomethanes'].replace(np.nan, df1['Trihalomethanes'].median())\n",
        "df2['Trihalomethanes']=df2['Trihalomethanes'].replace(np.nan, df2['Trihalomethanes'].median())\n",
        "Datos=pd.concat([df1,df2], axis=0, ignore_index=True)\n",
        "Datos.isnull().sum()\n"
      ],
      "execution_count": null,
      "outputs": [
        {
          "output_type": "execute_result",
          "data": {
            "text/plain": [
              "ph                 0\n",
              "Hardness           0\n",
              "Solids             0\n",
              "Chloramines        0\n",
              "Sulfate            0\n",
              "Conductivity       0\n",
              "Organic_carbon     0\n",
              "Trihalomethanes    0\n",
              "Turbidity          0\n",
              "Potability         0\n",
              "dtype: int64"
            ]
          },
          "metadata": {},
          "execution_count": 18
        }
      ]
    },
    {
      "cell_type": "code",
      "metadata": {
        "colab": {
          "base_uri": "https://localhost:8080/",
          "height": 419
        },
        "id": "-uT2m3JJUHFJ",
        "outputId": "58607166-7293-4e21-a88d-d6e2087e573b"
      },
      "source": [
        "Datos"
      ],
      "execution_count": null,
      "outputs": [
        {
          "output_type": "execute_result",
          "data": {
            "text/html": [
              "<div>\n",
              "<style scoped>\n",
              "    .dataframe tbody tr th:only-of-type {\n",
              "        vertical-align: middle;\n",
              "    }\n",
              "\n",
              "    .dataframe tbody tr th {\n",
              "        vertical-align: top;\n",
              "    }\n",
              "\n",
              "    .dataframe thead th {\n",
              "        text-align: right;\n",
              "    }\n",
              "</style>\n",
              "<table border=\"1\" class=\"dataframe\">\n",
              "  <thead>\n",
              "    <tr style=\"text-align: right;\">\n",
              "      <th></th>\n",
              "      <th>ph</th>\n",
              "      <th>Hardness</th>\n",
              "      <th>Solids</th>\n",
              "      <th>Chloramines</th>\n",
              "      <th>Sulfate</th>\n",
              "      <th>Conductivity</th>\n",
              "      <th>Organic_carbon</th>\n",
              "      <th>Trihalomethanes</th>\n",
              "      <th>Turbidity</th>\n",
              "      <th>Potability</th>\n",
              "    </tr>\n",
              "  </thead>\n",
              "  <tbody>\n",
              "    <tr>\n",
              "      <th>0</th>\n",
              "      <td>9.445130</td>\n",
              "      <td>145.805402</td>\n",
              "      <td>13168.529156</td>\n",
              "      <td>9.444471</td>\n",
              "      <td>310.583374</td>\n",
              "      <td>592.659021</td>\n",
              "      <td>8.606397</td>\n",
              "      <td>77.577460</td>\n",
              "      <td>3.875165</td>\n",
              "      <td>1</td>\n",
              "    </tr>\n",
              "    <tr>\n",
              "      <th>1</th>\n",
              "      <td>9.024845</td>\n",
              "      <td>128.096691</td>\n",
              "      <td>19859.676476</td>\n",
              "      <td>8.016423</td>\n",
              "      <td>300.150377</td>\n",
              "      <td>451.143481</td>\n",
              "      <td>14.770863</td>\n",
              "      <td>73.778026</td>\n",
              "      <td>3.985251</td>\n",
              "      <td>1</td>\n",
              "    </tr>\n",
              "    <tr>\n",
              "      <th>2</th>\n",
              "      <td>7.036752</td>\n",
              "      <td>169.974849</td>\n",
              "      <td>23403.637304</td>\n",
              "      <td>8.519730</td>\n",
              "      <td>331.838167</td>\n",
              "      <td>475.573562</td>\n",
              "      <td>12.924107</td>\n",
              "      <td>50.861913</td>\n",
              "      <td>2.747313</td>\n",
              "      <td>1</td>\n",
              "    </tr>\n",
              "    <tr>\n",
              "      <th>3</th>\n",
              "      <td>6.800119</td>\n",
              "      <td>242.008082</td>\n",
              "      <td>39143.403329</td>\n",
              "      <td>9.501695</td>\n",
              "      <td>187.170714</td>\n",
              "      <td>376.456593</td>\n",
              "      <td>11.432466</td>\n",
              "      <td>73.777275</td>\n",
              "      <td>3.854940</td>\n",
              "      <td>1</td>\n",
              "    </tr>\n",
              "    <tr>\n",
              "      <th>4</th>\n",
              "      <td>7.174135</td>\n",
              "      <td>203.408935</td>\n",
              "      <td>20401.102461</td>\n",
              "      <td>7.681806</td>\n",
              "      <td>287.085679</td>\n",
              "      <td>315.549900</td>\n",
              "      <td>14.533510</td>\n",
              "      <td>74.405616</td>\n",
              "      <td>3.939896</td>\n",
              "      <td>1</td>\n",
              "    </tr>\n",
              "    <tr>\n",
              "      <th>...</th>\n",
              "      <td>...</td>\n",
              "      <td>...</td>\n",
              "      <td>...</td>\n",
              "      <td>...</td>\n",
              "      <td>...</td>\n",
              "      <td>...</td>\n",
              "      <td>...</td>\n",
              "      <td>...</td>\n",
              "      <td>...</td>\n",
              "      <td>...</td>\n",
              "    </tr>\n",
              "    <tr>\n",
              "      <th>3271</th>\n",
              "      <td>6.616731</td>\n",
              "      <td>195.096968</td>\n",
              "      <td>34277.760400</td>\n",
              "      <td>7.632639</td>\n",
              "      <td>333.389426</td>\n",
              "      <td>417.465080</td>\n",
              "      <td>13.432557</td>\n",
              "      <td>47.945936</td>\n",
              "      <td>3.622379</td>\n",
              "      <td>0</td>\n",
              "    </tr>\n",
              "    <tr>\n",
              "      <th>3272</th>\n",
              "      <td>7.734569</td>\n",
              "      <td>230.919506</td>\n",
              "      <td>21776.594455</td>\n",
              "      <td>6.908591</td>\n",
              "      <td>333.389426</td>\n",
              "      <td>395.114961</td>\n",
              "      <td>15.033557</td>\n",
              "      <td>92.697369</td>\n",
              "      <td>3.821456</td>\n",
              "      <td>0</td>\n",
              "    </tr>\n",
              "    <tr>\n",
              "      <th>3273</th>\n",
              "      <td>6.971577</td>\n",
              "      <td>185.906938</td>\n",
              "      <td>27959.987873</td>\n",
              "      <td>7.214510</td>\n",
              "      <td>349.743879</td>\n",
              "      <td>414.067354</td>\n",
              "      <td>19.882917</td>\n",
              "      <td>36.179003</td>\n",
              "      <td>3.226349</td>\n",
              "      <td>0</td>\n",
              "    </tr>\n",
              "    <tr>\n",
              "      <th>3274</th>\n",
              "      <td>4.709187</td>\n",
              "      <td>179.141018</td>\n",
              "      <td>22291.418577</td>\n",
              "      <td>6.774276</td>\n",
              "      <td>407.417977</td>\n",
              "      <td>371.264843</td>\n",
              "      <td>18.186801</td>\n",
              "      <td>86.528627</td>\n",
              "      <td>3.860084</td>\n",
              "      <td>0</td>\n",
              "    </tr>\n",
              "    <tr>\n",
              "      <th>3275</th>\n",
              "      <td>5.230003</td>\n",
              "      <td>176.714023</td>\n",
              "      <td>27971.891806</td>\n",
              "      <td>7.597981</td>\n",
              "      <td>413.914001</td>\n",
              "      <td>440.355374</td>\n",
              "      <td>14.423614</td>\n",
              "      <td>72.837370</td>\n",
              "      <td>3.045612</td>\n",
              "      <td>0</td>\n",
              "    </tr>\n",
              "  </tbody>\n",
              "</table>\n",
              "<p>3276 rows × 10 columns</p>\n",
              "</div>"
            ],
            "text/plain": [
              "            ph    Hardness  ...  Turbidity  Potability\n",
              "0     9.445130  145.805402  ...   3.875165           1\n",
              "1     9.024845  128.096691  ...   3.985251           1\n",
              "2     7.036752  169.974849  ...   2.747313           1\n",
              "3     6.800119  242.008082  ...   3.854940           1\n",
              "4     7.174135  203.408935  ...   3.939896           1\n",
              "...        ...         ...  ...        ...         ...\n",
              "3271  6.616731  195.096968  ...   3.622379           0\n",
              "3272  7.734569  230.919506  ...   3.821456           0\n",
              "3273  6.971577  185.906938  ...   3.226349           0\n",
              "3274  4.709187  179.141018  ...   3.860084           0\n",
              "3275  5.230003  176.714023  ...   3.045612           0\n",
              "\n",
              "[3276 rows x 10 columns]"
            ]
          },
          "metadata": {},
          "execution_count": 20
        }
      ]
    },
    {
      "cell_type": "code",
      "metadata": {
        "id": "bnxAyvwEULy8"
      },
      "source": [
        "X = Datos.iloc[:, 0:9] #Tomamos las muestras y caracteristicas\n",
        "X = X.astype(np.float) #Convierto X a float"
      ],
      "execution_count": null,
      "outputs": []
    },
    {
      "cell_type": "code",
      "metadata": {
        "id": "ezWWDNunTcW5"
      },
      "source": [
        "def fisher_index(X, plot=True):\n",
        "    C = X.shape[1]\n",
        "    indexes = np.zeros(9)\n",
        "\n",
        "    j = 0\n",
        "    for i in range(C):\n",
        "        if_j = 0\n",
        "        for k in range(C):\n",
        "            if i == k:\n",
        "                continue\n",
        "            mean_i = np.mean(X[:,i])\n",
        "            mean_k = np.mean(X[:,k])\n",
        "            std_i = np.std(X[:,i])\n",
        "            std_k = np.std(X[:,k])\n",
        "\n",
        "            if_j += ((mean_i - mean_k)**2 )/(std_i**2 + std_k**2)\n",
        "        indexes[j] = if_j\n",
        "        j += 1\n",
        "\n",
        "    indexes = indexes / np.max(indexes)\n",
        "  \n",
        "    if plot == True:\n",
        "        x = np.array(np.linspace(0, C, C))\n",
        "        y = indexes\n",
        "        plt.stem(x, y, use_line_collection=True)\n",
        "        plt.xlabel('Variables')\n",
        "        plt.ylabel('Índice de fisher')\n",
        "        plt.show()    \n",
        "    return indexes"
      ],
      "execution_count": null,
      "outputs": []
    },
    {
      "cell_type": "code",
      "metadata": {
        "colab": {
          "base_uri": "https://localhost:8080/",
          "height": 313
        },
        "id": "ehNeSQ9XTe6w",
        "outputId": "5f15df15-b866-4d54-eeb1-eeab0a682b94"
      },
      "source": [
        "fisher_index(np.array(X))"
      ],
      "execution_count": null,
      "outputs": [
        {
          "output_type": "display_data",
          "data": {
            "image/png": "[encoded data removed]",
            "text/plain": [
              "<Figure size 432x288 with 1 Axes>"
            ]
          },
          "metadata": {
            "needs_background": "light"
          }
        },
        {
          "output_type": "execute_result",
          "data": {
            "text/plain": [
              "array([0.44028952, 0.42790323, 0.12965921, 0.43881877, 1.        ,\n",
              "       0.36475801, 0.43566307, 0.35930468, 0.47478954])"
            ]
          },
          "metadata": {},
          "execution_count": 29
        }
      ]
    }
  ]
}